{
  "nbformat": 4,
  "nbformat_minor": 0,
  "metadata": {
    "colab": {
      "provenance": []
    },
    "kernelspec": {
      "name": "python3",
      "display_name": "Python 3"
    },
    "language_info": {
      "name": "python"
    }
  },
  "cells": [
    {
      "cell_type": "markdown",
      "metadata": {
        "id": "Jzh3OHPIZxa9"
      },
      "source": [
        "# <font color='black'> Регрессионный анализ социально-экономических процессов, 2025 - 2026 </font>\n",
        "# <font color='black'>Практическое занятие 2 </font>\n",
        "\n",
        "\n",
        "## <font color='black'>Модель множественной линейной регрессии. Модели с переменными взаимодействия </font>\n",
        "На этом занятии мы продолжим работать с данными из статьи [Kalenborn C., Lessman C., 2013](https://yadi.sk/i/nlEQUoWKiqY0UA). Одна из частей анализа в данной статье выполнена на основе cross-section data (использованы усредненные данные за 2005 - 2010 гг.). Авторы изучают взаимосвязь уровня коррупции и демократии, предполагая, что ее характер зависит от значений показателя свободы прессы. Кратко о данных:\n",
        "* cpi - уровень коррупции: Corruption Perception Index. Непрерывная шкала от 0 до 10, где 10 означает наиболее высокий уровень коррупции.\n",
        "* dem - индекс демократии: Vanhanen’s democratization index. Непрерывная шкала от 0 до 100, где 100 означает максимальное значение уровня демократии.\n",
        "* fp - свобода прессы: Freedom House. Приведен к непрерывной шкале от 0 до 100, где 100 - наиболее высокое значение свободы прессы.\n",
        "* loggdppc - натуральный логарифм ВВП на душу населения. World Bank.\n",
        "* stab - уровень политической стабильности. Индекс построен на основе показателей \"Political Stability\" и \"Absence of Violence/Terrorism\" из the Worldwide Governance Indicators. Непрерывная шкала от -2.5 до 2.5, где 2.5 соответствует наиболее высокому уровню политической стабильности.\n",
        "* britcol - дамми-переменная, где 1 - бывшая британская колония."
      ]
    },
    {
      "cell_type": "code",
      "execution_count": null,
      "metadata": {
        "id": "vlt5pEfkZxbB"
      },
      "outputs": [],
      "source": [
        "import pandas as pd\n",
        "import statsmodels.api as sm\n",
        "import statsmodels.formula.api as smf\n",
        "import numpy as np\n",
        "from scipy.stats import norm\n",
        "\n",
        "import seaborn as sns\n",
        "import matplotlib.pyplot as plt\n",
        "import matplotlib.lines as mlines\n",
        "\n",
        "%matplotlib inline\n",
        "%config InlineBackend.figure_format = 'retina'\n",
        "\n",
        "sns.set(style = \"white\", palette='deep')"
      ]
    },
    {
      "cell_type": "markdown",
      "metadata": {
        "id": "_p5vjuPdZxbF"
      },
      "source": [
        "Откроем массив данных для репликации результатов исследования - lab1.dta."
      ]
    },
    {
      "cell_type": "code",
      "execution_count": null,
      "metadata": {
        "id": "ZU_dW4geZxbH"
      },
      "outputs": [],
      "source": [
        "lab2 = pd.read_stata('lab1.dta')\n",
        "lab2 = lab2.dropna()"
      ]
    },
    {
      "cell_type": "markdown",
      "metadata": {
        "id": "uaaea7f9ZxbI"
      },
      "source": [
        "Познакомимся с тем, как устроен массив данных."
      ]
    },
    {
      "cell_type": "code",
      "execution_count": null,
      "metadata": {
        "id": "62cam0lZZxbK"
      },
      "outputs": [],
      "source": [
        "lab2.head(10)"
      ]
    },
    {
      "cell_type": "markdown",
      "source": [
        "В прошлый раз мы уже оценивали парную линейную регрессию cpi на dem."
      ],
      "metadata": {
        "id": "pcFutYpAkhn2"
      }
    },
    {
      "cell_type": "code",
      "source": [
        "m0 = smf.ols(formula = \"cpi ~ dem\", data = lab2).fit(cov_type = \"HC3\")\n",
        "print(m0.summary())"
      ],
      "metadata": {
        "id": "uQe4gi27kn3F"
      },
      "execution_count": null,
      "outputs": []
    },
    {
      "cell_type": "markdown",
      "metadata": {
        "id": "5RxS2DTWZxbN"
      },
      "source": [
        "Оценим для начала регрессионную модель без переменных взаимодействия. Проинтерпретируйте все оценки коэффициентов модели m1. Как изменилась оценка коэффициента при dem по сравнению с соответствующей оценкой в модели m0?"
      ]
    },
    {
      "cell_type": "code",
      "execution_count": null,
      "metadata": {
        "id": "YKCqndryZxbO"
      },
      "outputs": [],
      "source": [
        "m1 = smf.ols(formula = \"cpi ~ dem + fp + loggdppc + britcol + stab\", data = lab2).fit(cov_type = \"HC3\")\n",
        "print(m1.summary())"
      ]
    },
    {
      "cell_type": "markdown",
      "source": [
        "И соответствующая таблица разложения вариации (ANOVA-таблица):"
      ],
      "metadata": {
        "id": "k9lECkGm8JJK"
      }
    },
    {
      "cell_type": "code",
      "source": [
        "anova = sm.stats.anova_lm(m1)\n",
        "print(anova)"
      ],
      "metadata": {
        "id": "XcEEgXbu8NuQ"
      },
      "execution_count": null,
      "outputs": []
    },
    {
      "cell_type": "markdown",
      "source": [
        "Альтернатива: Мы можем получить оценку коэффициента при любом предикторе в такой модели, воспользуясь теоремой Фриша-Во-Ловелла (the Frisch-Waugh-Lovell theorem). К примеру, для того, чтобы получить оценку коэффициента при переменной dem, а именно, оценить, как связаны dem и cpi, нужно очистить вариацию этих переменных от других предикторов (а именно, от fp, loggdppc, britcol и stab, с другой).\n",
        "\n",
        "1) Для этого мы оцениваем регрессию dem на fp, loggdppc, britcol и stab, сохраняем остатки - то есть, получаем очищенный показатель dem.\n",
        "\n",
        "2) Далее аналогично оцениваем регрессию cpi на fp, loggdppc, britcol и stab, сохраняем остатки - то есть, получаем очищенный показатель cpi.\n",
        "\n",
        "3) После этого достаточно будет оценить регрессию очищенного cpi на очищенный dem и убедиться, что мы получили тот же самый коэффициент при dem, что и в исходной модели с контрольными переменными."
      ],
      "metadata": {
        "id": "AHWHKVsCmKkn"
      }
    },
    {
      "cell_type": "code",
      "source": [
        "m1_1 = smf.ols(formula = \"dem ~ fp + loggdppc + britcol + stab\", data = lab2).fit()\n",
        "resid_data = pd.DataFrame()\n",
        "resid_data[\"res1\"] = m1_1.resid"
      ],
      "metadata": {
        "id": "ED0RVLhfosTi"
      },
      "execution_count": null,
      "outputs": []
    },
    {
      "cell_type": "code",
      "source": [
        "m1_2 = smf.ols(formula = \"cpi ~ fp + loggdppc + britcol + stab\", data = lab2).fit()\n",
        "resid_data[\"res2\"] = m1_2.resid"
      ],
      "metadata": {
        "id": "rEAubYnQpEuW"
      },
      "execution_count": null,
      "outputs": []
    },
    {
      "cell_type": "code",
      "source": [
        "m1_3 = smf.ols(formula = \"res2 ~ res1\", data = resid_data).fit(cov_type = \"HC3\")\n",
        "print(m1_3.summary())"
      ],
      "metadata": {
        "id": "OgWaAzmlpPV2"
      },
      "execution_count": null,
      "outputs": []
    },
    {
      "cell_type": "markdown",
      "source": [
        "Для того, чтобы лучше понять, что скрывается за процессом очищения вариации, представим себе следующее. Мы включаем в модель категориальную контрольную переменную. Далее реализуем следующие шаги:\n",
        "\n",
        "1) разделим исходный массив на подгруппы в зависимости от количества категорий в контрольной переменной\n",
        "\n",
        "2) оценим регрессионную модель $y$ на $x$ для каждого подмассива, итого получим J оценок коэффициентов наклона при $x$, где J - это количество категорий контрольной переменной   \n",
        "\n",
        "3) взвесим результаты: суммируем взвешенные оценки коэффициентов, в качестве веса будет выступать доля подвыборки в общем массиве $∑w_j\\hat{\\beta}_j$\n",
        "\n",
        "Таким образом, очищение вариации равносильно тому, как если бы мы исследовали взаимосвязь $x$ и $y$ при фиксированном значении контрольной переменной"
      ],
      "metadata": {
        "id": "2owdgZFzQtJJ"
      }
    },
    {
      "cell_type": "markdown",
      "source": [
        "Рассмотрим для иллюстрации исходную модель. При этом сфокусируемся на разделении выборки по бинарной контрольной переменной britcol\n",
        "\n",
        "Итак, всего у нас 170 наблюдений"
      ],
      "metadata": {
        "id": "PyvngSRjdTgB"
      }
    },
    {
      "cell_type": "code",
      "source": [
        "len(lab2)"
      ],
      "metadata": {
        "id": "rYKXWvOidYkz"
      },
      "execution_count": null,
      "outputs": []
    },
    {
      "cell_type": "markdown",
      "source": [
        "Из них 38 стран - бывшие британские колонии, оставшиеся 132 страны - страны, которые не являются бывшими британскими колониями"
      ],
      "metadata": {
        "id": "K4skfh2GdgwB"
      }
    },
    {
      "cell_type": "code",
      "source": [
        "print(f\"Страны, которые не являются бывшими британскими колониями: {len(lab2[lab2['britcol'] == 0])} стран\")\n",
        "print(f\"Бывшие британские колонии: {len(lab2[lab2['britcol'] == 1])} стран\")"
      ],
      "metadata": {
        "id": "PftRTUsndslA"
      },
      "execution_count": null,
      "outputs": []
    },
    {
      "cell_type": "markdown",
      "source": [
        "Оценим регрессионную модель на соответствующих подвыборках:"
      ],
      "metadata": {
        "id": "x5TX9HN6e_5v"
      }
    },
    {
      "cell_type": "code",
      "source": [
        "m_group0 = smf.ols(formula='cpi ~ dem + fp + loggdppc + stab',\n",
        "                      data=lab2[lab2['britcol'] == 0]).fit()\n",
        "\n",
        "print(m_group0.summary())"
      ],
      "metadata": {
        "id": "Jrbb0KvzfGqi"
      },
      "execution_count": null,
      "outputs": []
    },
    {
      "cell_type": "code",
      "source": [
        "m_group1 = smf.ols(formula='cpi ~ dem + fp + loggdppc + stab',\n",
        "                      data=lab2[lab2['britcol'] == 1]).fit()\n",
        "\n",
        "print(m_group1.summary())"
      ],
      "metadata": {
        "id": "Y0GOxic1fPYd"
      },
      "execution_count": null,
      "outputs": []
    },
    {
      "cell_type": "markdown",
      "source": [
        "Сравним результаты в полной модели с учетом контрольной переменной britcol и с учетом деления на подвыборки:"
      ],
      "metadata": {
        "id": "6F2MhQK8fsvt"
      }
    },
    {
      "cell_type": "code",
      "source": [
        "X = ['dem', 'fp', 'loggdppc', 'stab']\n",
        "comparison = []\n",
        "\n",
        "for x in X:\n",
        "        comparison.append({\n",
        "            'variable': x,\n",
        "            'group0': m_group0.params[x],\n",
        "            'group1': m_group1.params[x],\n",
        "            'total': m1.params[x],\n",
        "            'weight_group0': len(lab2[lab2['britcol'] == 0]) / len(lab2),\n",
        "            'weight_group1': len(lab2[lab2['britcol'] == 1]) / len(lab2)\n",
        "        })\n",
        "\n",
        "comparison = pd.DataFrame(comparison)\n",
        "\n",
        "comparison"
      ],
      "metadata": {
        "id": "6pQ2aV-Kf0t_"
      },
      "execution_count": null,
      "outputs": []
    },
    {
      "cell_type": "markdown",
      "source": [
        "Взвесим результаты на долю наблюдений."
      ],
      "metadata": {
        "id": "Kkh1t180iAb7"
      }
    },
    {
      "cell_type": "code",
      "source": [
        "comparison['weighted_coef'] = comparison['group0']*comparison['weight_group0'] + comparison['group1']*comparison['weight_group1']\n",
        "\n",
        "comparison"
      ],
      "metadata": {
        "id": "Myj28D0CiI3E"
      },
      "execution_count": null,
      "outputs": []
    },
    {
      "cell_type": "markdown",
      "source": [
        "Полученные результаты взвешивания показывают близкие результаты к исходным результатам оценивания модели на всей выборке."
      ],
      "metadata": {
        "id": "kLhHpngGkb9V"
      }
    },
    {
      "cell_type": "markdown",
      "source": [
        "Несколько сложнее обстоят дела с непрерывной контрольной переменной. Размер подвыборки, с одной стороны, должен быть не слишком маленьким для оценивания регрессионной модели с заданным количеством параметров. С другой стороны, создавать слишком большие подвыборки также нецелесообразно, так как можно упустить различия во взаимосвязи, проявляющиеся в разных подмассивах, и в результате получить плохое приближение к оценкам модели по всей выборке. В связи с этим поделим массив на подвыборки из расчета, чтобы в подвыборке было хотя бы 30 наблюдений (с учетом нагруженности спецификации модели следует корректировать размер подвыборки):     "
      ],
      "metadata": {
        "id": "JhYY6fLqnK_s"
      }
    },
    {
      "cell_type": "code",
      "source": [
        "lab2['stab_quartile'] = pd.qcut(lab2['stab'], q=4, labels=False)\n",
        "\n",
        "X = ['dem', 'fp', 'loggdppc', 'britcol']\n",
        "comparison = []\n",
        "\n",
        "for x in X:\n",
        "    coefs_by_quartile = []\n",
        "    weights_by_quartile = []\n",
        "\n",
        "    for quartile in sorted(lab2['stab_quartile'].unique()):\n",
        "        quartile_data = lab2[lab2['stab_quartile'] == quartile]\n",
        "\n",
        "        if len(quartile_data) > 30:\n",
        "            model = smf.ols('cpi ~ dem + fp + loggdppc + britcol', data=quartile_data).fit()\n",
        "            coefs_by_quartile.append(model.params[x])\n",
        "            weights_by_quartile.append(len(quartile_data) / len(lab2))\n",
        "\n",
        "    weighted_coef = np.average(coefs_by_quartile, weights=weights_by_quartile)\n",
        "\n",
        "    comparison.append({\n",
        "        'variable': x,\n",
        "        'total': m1.params[x],\n",
        "        'weighted_coef': weighted_coef\n",
        "    })\n",
        "\n",
        "comparison = pd.DataFrame(comparison)\n",
        "comparison"
      ],
      "metadata": {
        "id": "p-eag1l2poXW"
      },
      "execution_count": null,
      "outputs": []
    },
    {
      "cell_type": "markdown",
      "source": [
        "Рассмотрим, как различается уровень коррупции в группах стран с разным уровнем свободы прессы. Предварительно разделим страны на 2 группы: \"not free\" и \"free\". В качестве порогового значения для разделения возьмем 70 баллов по показателю \"свобода прессы\"."
      ],
      "metadata": {
        "id": "1q8MjgIO9qA3"
      }
    },
    {
      "cell_type": "code",
      "execution_count": null,
      "metadata": {
        "id": "YO2GRJw2ZxbQ"
      },
      "outputs": [],
      "source": [
        "lab2['groups'] = lab2['fp'].apply(lambda x: 1 if x > 70 else 0)"
      ]
    },
    {
      "cell_type": "markdown",
      "metadata": {
        "id": "mwXjODjYZxbQ"
      },
      "source": [
        "Модель 2 включает вместо непрерывной переменной уровня свободы прессы бинарный показатель \"groups\" в качестве предиктора. Проинтерпретируйте оценки коэффициентов модели m2."
      ]
    },
    {
      "cell_type": "code",
      "execution_count": null,
      "metadata": {
        "id": "SC7qMtxiZxbT"
      },
      "outputs": [],
      "source": [
        "m2 = smf.ols(formula = \"cpi ~ dem + groups + loggdppc + britcol + stab\", data = lab2).fit(cov_type = \"HC3\")\n",
        "print(m2.summary())"
      ]
    },
    {
      "cell_type": "markdown",
      "metadata": {
        "id": "VJLMFzElZxbU"
      },
      "source": [
        "Тем не менее, данная модель не позволяет ответить на ключевой вопрос, которые ставили перед собой Kalenborn C., Lessman C. А именно, их интересовало, различается ли взаимосвязь коррупции и уровня демократии в странах с разными значениями свободы прессы? Для того, чтобы продвинуться в ответе на данный вопрос, представим следующий график. Какой предварительный вывод Вы можете сделать на основе данного графика?  "
      ]
    },
    {
      "cell_type": "code",
      "execution_count": null,
      "metadata": {
        "id": "RHt5Lyt2ZxbV",
        "collapsed": true
      },
      "outputs": [],
      "source": [
        "fig = sns.lmplot(data=lab2, x=\"dem\", y=\"cpi\", hue=\"groups\", legend=False)\n",
        "\n",
        "plt.title(\"Взаимосвязь индексов демократии и коррупции\", fontweight='bold')\n",
        "plt.xlabel(\"Индекс демократии\", fontweight='bold')\n",
        "plt.ylabel(\"Индекс восприятия коррупции\", fontweight='bold')\n",
        "\n",
        "palette = sns.color_palette('deep', 2)\n",
        "legend_elements = [\n",
        "    mlines.Line2D([], [], color=palette[0], marker='o',\n",
        "                 markersize=8, label='Несвободные'),\n",
        "    mlines.Line2D([], [], color=palette[1], marker='o',\n",
        "                 markersize=8, label='Свободные')\n",
        "]\n",
        "\n",
        "plt.legend(handles=legend_elements, loc='upper center',\n",
        "           bbox_to_anchor=(0.5, -0.15), ncol=2, frameon=True)\n",
        "\n",
        "plt.tight_layout()\n",
        "plt.show()"
      ]
    },
    {
      "cell_type": "markdown",
      "metadata": {
        "id": "oXzkro5JZxbW"
      },
      "source": [
        "Изменим спецификацию регрессионной модели так, чтобы она позволяла ответить на вопрос, как различается взаимосвязь коррупции и уровня демократии в двух группах стран (условно назовем их \"свободные\" и \"несвободные\"). Для этого нужно ввести переменную взаимодействия между предиктором \"dem\" и \"groups\".\n",
        "Проинтерпретируйте оценки коэффициентов в модели m3."
      ]
    },
    {
      "cell_type": "code",
      "execution_count": null,
      "metadata": {
        "id": "thPbTHsTZxbX"
      },
      "outputs": [],
      "source": [
        "m3 = smf.ols(formula = \"cpi ~ dem*groups + loggdppc + britcol + stab\", data = lab2).fit(cov_type = \"HC3\")\n",
        "print(m3.summary())"
      ]
    },
    {
      "cell_type": "markdown",
      "metadata": {
        "id": "1gZCE58xZxbY"
      },
      "source": [
        "Проиллюстрируем на графике различия между предельными эффектами демократии в зависимости от групп стран. Для этого нам предварительно понадобится\n",
        "* задать формулу для расчета предельных эффектов. Для этого мы\n",
        "\n",
        "1) извлечем оценки коэффициентов модели m3 (marg_effect)\n",
        "\n",
        "2) получим вектор уникальных значений переменной \"groups\" (values), которая является условием (то есть, от ее значений зависит предельный эффект демократии)\n",
        "\n",
        "* задать формулу для расчета стандартных ошибок"
      ]
    },
    {
      "cell_type": "code",
      "execution_count": null,
      "metadata": {
        "id": "HDDvlORrZxbZ"
      },
      "outputs": [],
      "source": [
        "print(m3.params)\n",
        "print(m3.cov_params())"
      ]
    },
    {
      "cell_type": "code",
      "source": [
        "v = lab2.groups.unique()\n",
        "me = m3.params.iloc[1] + m3.params.iloc[3] * v\n",
        "cov = m3.cov_params().values\n",
        "se = np.sqrt(cov[1,1] + v**2 * cov[3,3] + 2 * v * cov[1,3])\n",
        "\n",
        "plt.figure(figsize=(7, 4))\n",
        "plt.errorbar(me, v, xerr=1.96 * se, fmt='D', capsize=5)\n",
        "\n",
        "plt.yticks([0, 1], ['Несвободные \\n страны', 'Свободные \\n страны'],\n",
        "           fontsize=8, fontweight='bold')\n",
        "\n",
        "for i, (y_val, x_val) in enumerate(zip(v, me)):\n",
        "    plt.annotate(f'{x_val:.3f}', (x_val, y_val), xytext=(-15, -15),\n",
        "                textcoords='offset points', va='center',\n",
        "                fontsize=8.5, fontweight='bold',\n",
        "                bbox=dict(boxstyle='round', facecolor='white', alpha=0.3, edgecolor='gray'))\n",
        "\n",
        "plt.xlabel('Предельные эффекты', fontsize=10, fontweight='bold')\n",
        "\n",
        "plt.grid(True, alpha=0.2)\n",
        "plt.tight_layout()\n",
        "plt.show()"
      ],
      "metadata": {
        "id": "gZ6M0azsXGI-"
      },
      "execution_count": null,
      "outputs": []
    },
    {
      "cell_type": "markdown",
      "metadata": {
        "id": "7dRxfy6yZxba"
      },
      "source": [
        "Теперь попробуем оценить модель, но уже с переменной взаимодействия между исходными непрерывными переменными \"dem\" и \"fp\", без деления стран на группы \"not free\" и \"free\". Какой вывод можно сделать на основе оценок данной модели?\n",
        "Предложите возможные преобразования для более удобной интерпретации и примените их при оценивании модели (в качестве дополнительной практики после занятия)."
      ]
    },
    {
      "cell_type": "code",
      "execution_count": null,
      "metadata": {
        "id": "qPU7HUOxZxbb"
      },
      "outputs": [],
      "source": [
        "m4 = smf.ols(formula = \"cpi ~ dem*fp + loggdppc + britcol + stab\", data = lab2).fit(cov_type = \"HC3\")\n",
        "print(m4.summary())"
      ]
    },
    {
      "cell_type": "markdown",
      "metadata": {
        "id": "Yj82xI5IZxbb"
      },
      "source": [
        "Покажем на графике, как изменяется предельный эффект демократии и его значимость в зависимости от \"условия\" (freedom of press). Проинтерпретируйте график."
      ]
    },
    {
      "cell_type": "code",
      "execution_count": null,
      "metadata": {
        "id": "-3IonlmYZxbd"
      },
      "outputs": [],
      "source": [
        "cov_m4 = np.asmatrix(m4.cov_params())\n",
        "fp_values = np.linspace(lab2.fp.min(), lab2.fp.max())\n",
        "marg_effect_m4 = m4.params.iloc[1] + m4.params.iloc[3]*fp_values\n",
        "se2 = np.sqrt(cov_m4[1,1] + fp_values**2*(cov_m4[3,3]) + 2*fp_values*cov_m4[1,3])\n",
        "\n",
        "plt.figure(figsize=(7, 4))\n",
        "plt.plot(fp_values, marg_effect_m4, 'b')\n",
        "plt.plot(fp_values, marg_effect_m4 - norm.ppf(0.975)*se2, 'b--')\n",
        "plt.plot(fp_values, marg_effect_m4 + norm.ppf(0.975)*se2, 'b--')\n",
        "plt.xlabel('Свобода прессы', fontsize=10)\n",
        "plt.ylabel('Предельный эффект демократии', fontsize=10)\n",
        "plt.axhline(y=0, color ='r', linestyle = '--')\n",
        "plt.title('Зависимость предельного эффекта \\n от значений индекса свободы прессы', fontsize=12, fontweight='bold')\n",
        "\n",
        "plt.grid(True, alpha=0.2)\n",
        "plt.tight_layout()\n",
        "plt.show()"
      ]
    },
    {
      "cell_type": "markdown",
      "metadata": {
        "id": "lw9Mnvb2Zxbd"
      },
      "source": [
        "Резюмируйте результаты проведенного анализа."
      ]
    }
  ]
}