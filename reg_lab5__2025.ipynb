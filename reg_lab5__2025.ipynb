{
  "nbformat": 4,
  "nbformat_minor": 0,
  "metadata": {
    "colab": {
      "provenance": []
    },
    "kernelspec": {
      "name": "python3",
      "display_name": "Python 3"
    },
    "language_info": {
      "name": "python"
    }
  },
  "cells": [
    {
      "cell_type": "markdown",
      "metadata": {
        "id": "I_SixRYeKDjb"
      },
      "source": [
        "# <font color='black'>Регрессионный анализ социально-экономических процессов, 2025 - 2026 </font>\n",
        "## <font color='black'> Практическое занятие 5: Гетероскедастичность. Нетипичные наблюдения </font>\n",
        "В рамках данного практического занятия мы продолжим работать с данными из статьи [Kalenborn C., Lessman C., 2013](https://yadi.sk/i/nlEQUoWKiqY0UA). Одна из частей анализа в данной статье выполнена на основе cross-section data (использованы усредненные данные за 2005 - 2010 гг.). Возьмем такой массив, так как мы пока не знакомились с моделями для анализа панельных данных.\n",
        "\n",
        "Стоит отметить, что авторы изучают взаимосвязь уровня коррупции (является откликом в регрессионной модели) и демократии, предполагая, что ее характер зависит от значений показателя свободы прессы. Мы протестируем данную гипотезу на практическом занятии 2, когда познакомимся с регрессионными моделями с переменными взаимодействия. Кратко о данных:\n",
        "* cpi - уровень коррупции: Corruption Perception Index. Приведен к непрерывной шкале от 0 до 10, где 10 означает наиболее высокий уровень коррупции.\n",
        "* dem - индекс демократии: Vanhanen’s democratization index. Непрерывная шкала от 0 до 100, где 100 означает максимальное значение уровня демократии.\n",
        "* fp - свобода прессы: Freedom House. Приведен к непрерывной шкале от 0 до 100, где 100 - наиболее высокое значение свободы прессы.\n",
        "* loggdppc - натуральный логарифм ВВП на душу населения: World Bank.\n",
        "* stab - уровень политической стабильности. Индекс построен на основе показателей \"Political Stability\" и \"Absence of Violence/Terrorism\" из the Worldwide Governance Indicators. Непрерывная шкала от -2.5 до 2.5, где 2.5 соответствует наиболее высокому уровню политической стабильности.\n",
        "* britcol - дамми-переменная, где 1 - бывшая британская колония."
      ]
    },
    {
      "cell_type": "code",
      "execution_count": null,
      "metadata": {
        "id": "7Su83yqjKDjg"
      },
      "outputs": [],
      "source": [
        "import pandas as pd\n",
        "import statsmodels as sm\n",
        "import statsmodels.formula.api as smf\n",
        "from scipy import stats\n",
        "from scipy.stats import shapiro\n",
        "import seaborn as sns\n",
        "import numpy as np\n",
        "import matplotlib.pyplot as mpl\n",
        "import matplotlib.lines as mlines\n",
        "\n",
        "from statsmodels.tools.tools import add_constant\n",
        "\n",
        "from statsmodels.stats.diagnostic import het_breuschpagan\n",
        "from statsmodels.stats.diagnostic import het_white\n",
        "from statsmodels.stats.diagnostic import het_goldfeldquandt\n",
        "\n",
        "from statsmodels.stats.outliers_influence import outlier_test"
      ]
    },
    {
      "cell_type": "markdown",
      "metadata": {
        "id": "drlgzo1LKDji"
      },
      "source": [
        "Откроем массив данных для репликации результатов исследования: lab1.dta"
      ]
    },
    {
      "cell_type": "code",
      "execution_count": null,
      "metadata": {
        "id": "a-6v4MieKDji"
      },
      "outputs": [],
      "source": [
        "lab1 = pd.read_stata('lab1.dta')\n",
        "lab1 = lab1.dropna()"
      ]
    },
    {
      "cell_type": "code",
      "execution_count": null,
      "metadata": {
        "scrolled": false,
        "id": "4qHqidcGKDjn"
      },
      "outputs": [],
      "source": [
        "m1 = smf.ols(formula = \"cpi ~ dem + fp + stab + loggdppc + britcol\", data = lab1).fit()\n",
        "print(m1.summary())"
      ]
    },
    {
      "cell_type": "markdown",
      "source": [
        "Проверим, можно ли говорить про гомоскедастичность (здравый смысл подсказывает, что надеяться не стоит), но тем не менее, реализуем определенные диагностики. Для начала построим график, показывающий, как связаны остатки в квадрате и одна из объясняющих переменных - к примеру, ключевой предиктор (dem)."
      ],
      "metadata": {
        "id": "b5HkvJh1RAtD"
      }
    },
    {
      "cell_type": "code",
      "source": [
        "fitted = m1.predict()\n",
        "residuals_sq = m1.resid**2\n",
        "fig, ax = mpl.subplots()\n",
        "sns.scatterplot(x = lab1['dem'], y = residuals_sq)\n",
        "ax.set_xlabel( \"Индекс демократии\")\n",
        "ax.set_ylabel( \"Остатки в квадрате\")"
      ],
      "metadata": {
        "id": "THAtbQmGRBmv"
      },
      "execution_count": null,
      "outputs": []
    },
    {
      "cell_type": "markdown",
      "metadata": {
        "id": "AR4zwc5WKDjq"
      },
      "source": [
        "Можно не рассматривать объясняющие переменные по отдельности, а  построить график, показывающий, как связаны остатки в квадрате и предсказанные значения по модели ($\\hat{y}$ как линейная комбинация предикторов)"
      ]
    },
    {
      "cell_type": "code",
      "execution_count": null,
      "metadata": {
        "scrolled": true,
        "id": "bDHiLspaKDjq"
      },
      "outputs": [],
      "source": [
        "fitted = m1.predict()\n",
        "residuals_sq = m1.resid**2\n",
        "fig, ax = mpl.subplots()\n",
        "sns.scatterplot(x = fitted, y = residuals_sq)\n",
        "ax.set_xlabel( \"Предсказанные значения отклика\")\n",
        "ax.set_ylabel( \"Квадраты остатков\")"
      ]
    },
    {
      "cell_type": "markdown",
      "metadata": {
        "id": "Ri-J2OsXKDjq"
      },
      "source": [
        "Есть и формальные тесты для проверки гипотезы о гомоскедастичности. К примеру, тест Уайта. Давайте его реализуем и проинтепретируем результаты на основе p-value."
      ]
    },
    {
      "cell_type": "code",
      "execution_count": null,
      "metadata": {
        "id": "JEY75f7HKDjq"
      },
      "outputs": [],
      "source": [
        "X = lab1[[\"dem\", \"fp\", \"stab\", \"loggdppc\", \"britcol\"]]\n",
        "X = add_constant(X)\n",
        "\n",
        "white_test = het_white(m1.resid, X)\n",
        "white_test\n",
        "\n",
        "stat, p_value = white_test[0:2]\n",
        "print(f'Statistic: {stat}, P-Value: {p_value}')"
      ]
    },
    {
      "cell_type": "code",
      "source": [
        "white_test1 = het_white(m1.resid, m1.model.exog)\n",
        "stat, p_value = white_test1[0:2]\n",
        "print(f'Statistic: {stat}, P-Value: {p_value}')"
      ],
      "metadata": {
        "id": "DwDNtISFhfkE"
      },
      "execution_count": null,
      "outputs": []
    },
    {
      "cell_type": "markdown",
      "source": [
        "Как мы уже обсуждали, можно использовать тест Бреуша-Пагана, предполагающий более экономную спецификацию вспомогательной модели по сравнению с тестом Уайта (остатки в квадрате регрессируются на исходные объясняющие переменные, не учитываются квадратичные эффекты и совместные эффекты)."
      ],
      "metadata": {
        "id": "-3XkVav5jf0a"
      }
    },
    {
      "cell_type": "code",
      "source": [
        "bp_test = het_breuschpagan(m1.resid, m1.model.exog)\n",
        "stat, p_value = bp_test[0:2]\n",
        "print(f'Statistic: {stat}, P-Value: {p_value}')"
      ],
      "metadata": {
        "id": "Knsw7vPUkRyH"
      },
      "execution_count": null,
      "outputs": []
    },
    {
      "cell_type": "markdown",
      "source": [
        "Кроме этого, мы можем рассмотреть частный случай гетероскедастичности. Мы можем предположить, что вариация остатков монотонно возрастает/убывает с ростом предиктора. Для иллюстрации возьмем предиктор \"loggdppc\"\n",
        "\n",
        "Отвержение нулевой гипотезы говорит не в целом о гетероскедастичности, а наличии определенного паттерна, задающего различия в вариации остатков\n",
        "\n",
        "В этом тесте возможно задать и одностороннюю альтернативу (increasing / decreasing), но будьте аккуратно, чтобы не ошибиться с направлением альтернативы и не получить противоположный результат"
      ],
      "metadata": {
        "id": "iq1h0qUklwvu"
      }
    },
    {
      "cell_type": "code",
      "source": [
        "gq_test = het_goldfeldquandt(lab1.cpi, X, idx = 4, drop = 0.2, alternative = 'two-sided')\n",
        "stat, p_value, alternative = gq_test[0:3]\n",
        "print(f'Statistic: {stat}, P-Value: {p_value}, alternative: {alternative}')"
      ],
      "metadata": {
        "id": "E-dZazJGmw8z"
      },
      "execution_count": null,
      "outputs": []
    },
    {
      "cell_type": "markdown",
      "metadata": {
        "id": "_lDTSEVRKDjr"
      },
      "source": [
        "Переоценим модель с робастными стандартными ошибками (HC3) - состоятельными в условиях гетероскедастичности - и сравним результаты с предыдущей моделью\n",
        "\n",
        "Обратите внимание, оценки коэффициентов остаются без изменений, меняются только стандартные ошибки, так как используем специальную матрицу весов HC3 для ошибок"
      ]
    },
    {
      "cell_type": "code",
      "execution_count": null,
      "metadata": {
        "id": "ZXBlWQwbKDjr"
      },
      "outputs": [],
      "source": [
        "m1_1 = smf.ols(formula = \"cpi ~ dem + fp + stab + loggdppc + britcol\", data = lab1).fit(cov_type = \"HC3\")\n",
        "print(m1_1.summary())"
      ]
    },
    {
      "cell_type": "code",
      "source": [
        "comparison = pd.DataFrame({\n",
        "    'coef_m1': m1.params,\n",
        "    'se_m1': m1.bse,\n",
        "    'coef_HC3': m1_1.params,\n",
        "    'se_HC3': m1_1.bse,\n",
        "    'se_ratio': m1_1.bse / m1.bse,\n",
        "    'coef_diff': m1_1.params - m1.params\n",
        "})\n",
        "\n",
        "print(\"Сравнение стандартных ошибок исходных и HC3:\")\n",
        "print(comparison.round(3))"
      ],
      "metadata": {
        "id": "1inlTUIaOeX4"
      },
      "execution_count": null,
      "outputs": []
    },
    {
      "cell_type": "markdown",
      "source": [
        "Проверим, есть ли в нашем массиве нетипичные наблюдения. Для начала рассмотрим нетипичные наблюдения по предикторам."
      ],
      "metadata": {
        "id": "L57egSUgG2HF"
      }
    },
    {
      "cell_type": "code",
      "source": [
        "leverage = m1_1.get_influence().hat_matrix_diag\n",
        "\n",
        "leverage_data = lab1[leverage > 2*np.mean(leverage)]\n",
        "leverage_data"
      ],
      "metadata": {
        "id": "6PqtzzrsAwEf"
      },
      "execution_count": null,
      "outputs": []
    },
    {
      "cell_type": "markdown",
      "source": [
        "Посмотрим, как обстоят дела с outliers (нетипичные наблюдения по y)."
      ],
      "metadata": {
        "id": "NoPxVP8zHS4c"
      }
    },
    {
      "cell_type": "code",
      "source": [
        "influence = m1_1.get_influence()\n",
        "student_resid = influence.resid_studentized_external\n",
        "\n",
        "outlier_data = lab1[np.abs(student_resid) > 3].copy()\n",
        "outlier_data['student_resid'] = student_resid[np.abs(student_resid) > 3]\n",
        "outlier_data"
      ],
      "metadata": {
        "id": "B0Hbw91cICp1"
      },
      "execution_count": null,
      "outputs": []
    },
    {
      "cell_type": "markdown",
      "source": [
        "Как мы знаем, нетипичные наблюдения только по X или только по Y не меняют значимым образом результаты. Поэтому обратимся к влиятельным наблюдениям - комбинациям нетипичных наблюдений по X и Y. Определим для начала влиятельные наблюдения по мере Кука:"
      ],
      "metadata": {
        "id": "VC46FP7YeQNz"
      }
    },
    {
      "cell_type": "code",
      "source": [
        "cooks_dist = m1_1.get_influence().cooks_distance[0]\n",
        "cooks_dist\n",
        "\n",
        "lab1['cooks_dist'] = cooks_dist\n",
        "\n",
        "influential_obs = lab1[cooks_dist > 4 / len(lab1)]\n",
        "\n",
        "influential_obs_ordered = influential_obs.sort_values('cooks_dist', ascending = False)\n",
        "influential_obs_ordered"
      ],
      "metadata": {
        "id": "lPVxo_52ed6m"
      },
      "execution_count": null,
      "outputs": []
    },
    {
      "cell_type": "markdown",
      "source": [
        "Отдельно выведем значение расстояния Кука и количество наблюдений, превышающих данное значение"
      ],
      "metadata": {
        "id": "gCjO3jWFfxbG"
      }
    },
    {
      "cell_type": "code",
      "source": [
        "print(f\"Порог Cook's D: {4 / len(lab1):.4f}\")\n",
        "print(f\"Количество влиятельных наблюдений: {len(influential_obs)}\")"
      ],
      "metadata": {
        "id": "H6OLuUnYeijw"
      },
      "execution_count": null,
      "outputs": []
    },
    {
      "cell_type": "markdown",
      "source": [
        "Для удобства построим график, отображающий значения потенциала влияния и стьюдентизированных остатков:"
      ],
      "metadata": {
        "id": "Kz_A5WcIItVb"
      }
    },
    {
      "cell_type": "code",
      "source": [
        "mpl.figure(figsize=(10, 6))\n",
        "\n",
        "influential = cooks_dist > (4 / len(lab1))\n",
        "\n",
        "for i in range(len(leverage)):\n",
        "    if influential[i]:\n",
        "        mpl.scatter(leverage[i], student_resid[i],\n",
        "                   s=cooks_dist[i]*1000 + 20,\n",
        "                   facecolors='none',\n",
        "                   edgecolors='red',\n",
        "                   linewidths=2,\n",
        "                   alpha=0.8)\n",
        "    else:\n",
        "        mpl.scatter(leverage[i], student_resid[i],\n",
        "                   s=cooks_dist[i]*1000 + 20,\n",
        "                   facecolors='none',\n",
        "                   edgecolors='gray',\n",
        "                   linewidths=1,\n",
        "                   alpha=0.6)\n",
        "\n",
        "for i in range(len(leverage)):\n",
        "    if influential[i]:\n",
        "        country_name = lab1.iloc[i]['country']\n",
        "        mpl.annotate(country_name,\n",
        "                    xy=(leverage[i], student_resid[i]),\n",
        "                    xytext=(8, 8),\n",
        "                    textcoords='offset points',\n",
        "                    fontsize=9,\n",
        "                    fontweight='bold',\n",
        "                    color='red',\n",
        "                    alpha=0.8,\n",
        "                    bbox=dict(boxstyle='round,pad=0.3', facecolor='white',\n",
        "                             edgecolor='red', alpha=0.7))\n",
        "\n",
        "mpl.axhline(y=0, color='black', linestyle='-', alpha=0.3, linewidth=0.5)\n",
        "mpl.axhline(y=2, color='red', linestyle='--', alpha=0.5, linewidth=1)\n",
        "mpl.axhline(y=-2, color='red', linestyle='--', alpha=0.5, linewidth=1)\n",
        "\n",
        "leverage_threshold = 2 * (m1.df_model + 1) / len(lab1)\n",
        "mpl.axvline(x=leverage_threshold, color='orange', linestyle='--', alpha=0.5, linewidth=1, label='Порог влияния')\n",
        "\n",
        "x_margin = leverage.max() * 0.15\n",
        "y_margin = max(abs(student_resid)) * 0.15\n",
        "\n",
        "mpl.xlim(-x_margin, leverage.max() + x_margin)\n",
        "mpl.ylim(-max(abs(student_resid)) - y_margin, max(abs(student_resid)) + y_margin)\n",
        "\n",
        "mpl.xlabel('Потенциал влияния (leverage)', fontsize=12)\n",
        "mpl.ylabel('Стьюдентизированные остатки', fontsize=12)\n",
        "mpl.title('Влиятельные наблюдения', fontsize=14)\n",
        "\n",
        "mpl.grid(True, alpha=0.3)\n",
        "\n",
        "red_circle = mlines.Line2D([], [], color='red', marker='o', linestyle='None',\n",
        "                          markersize=8, markeredgewidth=2, markerfacecolor='none',\n",
        "                          label='Влиятельные наблюдения')\n",
        "gray_circle = mlines.Line2D([], [], color='gray', marker='o', linestyle='None',\n",
        "                           markersize=8, markeredgewidth=1, markerfacecolor='none',\n",
        "                           label='Невлиятельные наблюдения')\n",
        "mpl.legend(handles=[red_circle, gray_circle], loc='best')\n",
        "\n",
        "mpl.tight_layout()\n",
        "mpl.show()"
      ],
      "metadata": {
        "id": "004y8CZAgKp9"
      },
      "execution_count": null,
      "outputs": []
    },
    {
      "cell_type": "markdown",
      "source": [
        "Кроме этого, можно диагностировать наблюдения, влиятельные с точки зрения изменения конкретного параметра. Для иллюстрации рассмотрим коэффициент при ключевом предикторе dem:"
      ],
      "metadata": {
        "id": "9XgCeiQjJBng"
      }
    },
    {
      "cell_type": "code",
      "source": [
        "dfbetas = m1_1.get_influence().dfbetas\n",
        "\n",
        "coef_index = 1\n",
        "lab1['dfbetas_dem'] = np.abs(dfbetas[:, coef_index])\n",
        "\n",
        "dfbeta_dem_data = lab1[np.abs(dfbetas[:, coef_index]) > 2 / np.sqrt(len(lab1))]\n",
        "\n",
        "dfbeta_dem_data_ordered = dfbeta_dem_data.sort_values('dfbetas_dem', ascending = False)\n",
        "dfbeta_dem_data_ordered"
      ],
      "metadata": {
        "id": "br_dzf3TJQFX"
      },
      "execution_count": null,
      "outputs": []
    }
  ]
}